{
  "nbformat": 4,
  "nbformat_minor": 0,
  "metadata": {
    "colab": {
      "name": "6_Strings.ipynb",
      "provenance": [],
      "authorship_tag": "ABX9TyNtboWG2QbwAqh4rN79PjHL",
      "include_colab_link": true
    },
    "kernelspec": {
      "name": "python3",
      "display_name": "Python 3"
    }
  },
  "cells": [
    {
      "cell_type": "markdown",
      "metadata": {
        "id": "view-in-github",
        "colab_type": "text"
      },
      "source": [
        "<a href=\"https://colab.research.google.com/github/ManojKumarTiwari/ReferenceAI/blob/master/01-Python-Crash-Course/6_Strings.ipynb\" target=\"_parent\"><img src=\"https://colab.research.google.com/assets/colab-badge.svg\" alt=\"Open In Colab\"/></a>"
      ]
    },
    {
      "cell_type": "markdown",
      "metadata": {
        "id": "I60ykOV3iwlB",
        "colab_type": "text"
      },
      "source": [
        "#Index\n",
        "- Note: input() is used to take input from keyboard from user\n",
        "- Single Quotes\n",
        "- Double Quotes\n",
        "- Escape Characters\n",
        "- Raw Strings\n",
        "- Triple Quotes\n",
        "- Indexing and Slicing Strings\n",
        "- \"in\" and \"not in\" operators\n",
        "- Concatenating Strings\n",
        "  - Using + operator\n",
        "  - String Interpolation\n",
        "  - f-strings\n",
        "- Useful String Methods\n",
        "  - upper()\n",
        "  - lower()\n",
        "  - isupper()\n",
        "  - islower()\n",
        "  - isalpha()\n",
        "  - isalnum()\n",
        "  - isdecimal()\n",
        "  - isspace()\n",
        "  - istitle()\n",
        "  - startswith()\n",
        "  - endswith()\n",
        "  - join()\n",
        "  - split()\n",
        "  - partition()\n",
        "  - rjust()\n",
        "  - ljust()\n",
        "  - center()\n",
        "  - strip()\n",
        "  - rstrip()\n",
        "  - lstrip()\n",
        "  - ord()\n",
        "  - chr()"
      ]
    },
    {
      "cell_type": "markdown",
      "metadata": {
        "id": "Isw4Zn2hdUrn",
        "colab_type": "text"
      },
      "source": [
        "### Single Quotes"
      ]
    },
    {
      "cell_type": "code",
      "metadata": {
        "id": "ma63n5LMY3Sr",
        "colab_type": "code",
        "outputId": "f4ac68eb-78b4-4cfc-f830-00e7282ec980",
        "colab": {
          "base_uri": "https://localhost:8080/",
          "height": 34
        }
      },
      "source": [
        "'Hello World'"
      ],
      "execution_count": 0,
      "outputs": [
        {
          "output_type": "execute_result",
          "data": {
            "text/plain": [
              "'Hello World'"
            ]
          },
          "metadata": {
            "tags": []
          },
          "execution_count": 1
        }
      ]
    },
    {
      "cell_type": "code",
      "metadata": {
        "id": "Y5ykOWX0ZB9F",
        "colab_type": "code",
        "outputId": "daa58dc6-1421-4918-f1aa-fb5aa521e38b",
        "colab": {
          "base_uri": "https://localhost:8080/",
          "height": 34
        }
      },
      "source": [
        "type('Hello World')"
      ],
      "execution_count": 0,
      "outputs": [
        {
          "output_type": "execute_result",
          "data": {
            "text/plain": [
              "str"
            ]
          },
          "metadata": {
            "tags": []
          },
          "execution_count": 2
        }
      ]
    },
    {
      "cell_type": "code",
      "metadata": {
        "id": "A28VNn55ZFm-",
        "colab_type": "code",
        "colab": {}
      },
      "source": [
        "# 'it's not my dog'\n",
        "# The above statement will through error because single quote is part of the string itself"
      ],
      "execution_count": 0,
      "outputs": []
    },
    {
      "cell_type": "markdown",
      "metadata": {
        "id": "vFtbK-p_dal_",
        "colab_type": "text"
      },
      "source": [
        "### Double Quotes"
      ]
    },
    {
      "cell_type": "code",
      "metadata": {
        "id": "_p71BjNuZMAe",
        "colab_type": "code",
        "outputId": "3cd6c3fc-0ed8-4c7f-85d9-f270e48b6d61",
        "colab": {
          "base_uri": "https://localhost:8080/",
          "height": 34
        }
      },
      "source": [
        "\"it's my dog\"\n",
        "# Now there is no error with double qoutes"
      ],
      "execution_count": 0,
      "outputs": [
        {
          "output_type": "execute_result",
          "data": {
            "text/plain": [
              "\"it's my dog\""
            ]
          },
          "metadata": {
            "tags": []
          },
          "execution_count": 5
        }
      ]
    },
    {
      "cell_type": "code",
      "metadata": {
        "id": "cRRPejnGZiRd",
        "colab_type": "code",
        "outputId": "589cb525-7e46-432a-d908-4f12cdbe9b7d",
        "colab": {
          "base_uri": "https://localhost:8080/",
          "height": 34
        }
      },
      "source": [
        "type(\"it's my dog\")"
      ],
      "execution_count": 0,
      "outputs": [
        {
          "output_type": "execute_result",
          "data": {
            "text/plain": [
              "str"
            ]
          },
          "metadata": {
            "tags": []
          },
          "execution_count": 6
        }
      ]
    },
    {
      "cell_type": "code",
      "metadata": {
        "id": "yt8yg8SiZmYN",
        "colab_type": "code",
        "colab": {}
      },
      "source": [
        "# \"it's my dog,\"browno\"\"\n",
        "# the above statement will through error because double quote is part of the string itself"
      ],
      "execution_count": 0,
      "outputs": []
    },
    {
      "cell_type": "markdown",
      "metadata": {
        "id": "Pgv0lqX3dgg_",
        "colab_type": "text"
      },
      "source": [
        "### Escape Characters"
      ]
    },
    {
      "cell_type": "code",
      "metadata": {
        "id": "yMvMYMjWd6EH",
        "colab_type": "code",
        "outputId": "bc7366f5-87f1-4808-ceb3-d480a288e8e8",
        "colab": {
          "base_uri": "https://localhost:8080/",
          "height": 34
        }
      },
      "source": [
        "r\"it's my dog, \\\"browno\\\"\""
      ],
      "execution_count": 0,
      "outputs": [
        {
          "output_type": "execute_result",
          "data": {
            "text/plain": [
              "'it\\'s my dog, \\\\\"browno\\\\\"'"
            ]
          },
          "metadata": {
            "tags": []
          },
          "execution_count": 26
        }
      ]
    },
    {
      "cell_type": "code",
      "metadata": {
        "id": "hgpnP922Zwvu",
        "colab_type": "code",
        "outputId": "0cf66ce0-d25e-4bea-dad5-b5ca1d82dee1",
        "colab": {
          "base_uri": "https://localhost:8080/",
          "height": 34
        }
      },
      "source": [
        "print(\"it's my dog, \\\"browno\\\"\")\n",
        "# Here we used escape character \\"
      ],
      "execution_count": 0,
      "outputs": [
        {
          "output_type": "stream",
          "text": [
            "it's my dog, \"browno\"\n"
          ],
          "name": "stdout"
        }
      ]
    },
    {
      "cell_type": "markdown",
      "metadata": {
        "id": "C0XIQyUgduNg",
        "colab_type": "text"
      },
      "source": [
        "### Raw Strings"
      ]
    },
    {
      "cell_type": "code",
      "metadata": {
        "id": "hymQm573a25k",
        "colab_type": "code",
        "outputId": "96abb3dc-0b82-4fc1-c091-441b76e6b241",
        "colab": {
          "base_uri": "https://localhost:8080/",
          "height": 34
        }
      },
      "source": [
        "print(r\"it\\'s my dog, \\\"browno\\\"\") \n",
        "# raw string.comes in handy when specifing path in directory "
      ],
      "execution_count": 0,
      "outputs": [
        {
          "output_type": "stream",
          "text": [
            "it\\'s my dog, \\\"browno\\\"\n"
          ],
          "name": "stdout"
        }
      ]
    },
    {
      "cell_type": "code",
      "metadata": {
        "id": "srG8oFptcaHl",
        "colab_type": "code",
        "outputId": "0d84ced9-b86f-4abd-fec6-c1d0752ba8c1",
        "colab": {
          "base_uri": "https://localhost:8080/",
          "height": 34
        }
      },
      "source": [
        "r'C:\\Users\\Maddy\\Downloads'"
      ],
      "execution_count": 0,
      "outputs": [
        {
          "output_type": "execute_result",
          "data": {
            "text/plain": [
              "'C:\\\\Users\\\\Maddy\\\\Downloads'"
            ]
          },
          "metadata": {
            "tags": []
          },
          "execution_count": 23
        }
      ]
    },
    {
      "cell_type": "code",
      "metadata": {
        "id": "_GRuhuiectoU",
        "colab_type": "code",
        "outputId": "8af764e0-ec2f-405f-9cfc-99852fe40be1",
        "colab": {
          "base_uri": "https://localhost:8080/",
          "height": 34
        }
      },
      "source": [
        "print(r'C:\\Users\\Maddy\\Downloads')"
      ],
      "execution_count": 0,
      "outputs": [
        {
          "output_type": "stream",
          "text": [
            "C:\\Users\\Maddy\\Downloads\n"
          ],
          "name": "stdout"
        }
      ]
    },
    {
      "cell_type": "markdown",
      "metadata": {
        "id": "lBrPsgpDegQ3",
        "colab_type": "text"
      },
      "source": [
        "### Triple Quotes"
      ]
    },
    {
      "cell_type": "code",
      "metadata": {
        "id": "48BkVOUTcxrO",
        "colab_type": "code",
        "outputId": "40514372-6630-4bd8-845e-3bde64e365e2",
        "colab": {
          "base_uri": "https://localhost:8080/",
          "height": 34
        }
      },
      "source": [
        "'''Dear Alice,\n",
        "\n",
        "Bob's car has been deported. Kindly report to \"New York\" police station.\n",
        "\n",
        "Your's Sincerely,\n",
        "Maddy'''"
      ],
      "execution_count": 0,
      "outputs": [
        {
          "output_type": "execute_result",
          "data": {
            "text/plain": [
              "'Dear Alice,\\n\\nBob\\'s car has been deported. Kindly report to \"New York\" police station.\\n\\nYour\\'s Sincerely,\\nMaddy'"
            ]
          },
          "metadata": {
            "tags": []
          },
          "execution_count": 27
        }
      ]
    },
    {
      "cell_type": "code",
      "metadata": {
        "id": "JHyqp5FvfEyV",
        "colab_type": "code",
        "outputId": "02d3abf1-4a58-4f4d-bbd3-3c85d582556b",
        "colab": {
          "base_uri": "https://localhost:8080/",
          "height": 34
        }
      },
      "source": [
        "type('''Dear Alice,\n",
        "\n",
        "Bob's car has been deported. Kindly report to \"New York\" police station.\n",
        "\n",
        "Your's Sincerely,\n",
        "Maddy''')"
      ],
      "execution_count": 0,
      "outputs": [
        {
          "output_type": "execute_result",
          "data": {
            "text/plain": [
              "str"
            ]
          },
          "metadata": {
            "tags": []
          },
          "execution_count": 28
        }
      ]
    },
    {
      "cell_type": "code",
      "metadata": {
        "id": "Lc45ba59fI6e",
        "colab_type": "code",
        "outputId": "c351beed-89d2-4070-8bcc-686e12d49d92",
        "colab": {
          "base_uri": "https://localhost:8080/",
          "height": 119
        }
      },
      "source": [
        "print(\"\"\"Dear Alice,\n",
        "\n",
        "Bob's car has been deported. Kindly report to \"New York\" police station.\n",
        "\n",
        "Your's Sincerely,\n",
        "Maddy\"\"\")"
      ],
      "execution_count": 0,
      "outputs": [
        {
          "output_type": "stream",
          "text": [
            "Dear Alice,\n",
            "\n",
            "Bob's car has been deported. Kindly report to \"New York\" police station.\n",
            "\n",
            "Your's Sincerely,\n",
            "Maddy\n"
          ],
          "name": "stdout"
        }
      ]
    },
    {
      "cell_type": "markdown",
      "metadata": {
        "id": "xirJL8HcgoYH",
        "colab_type": "text"
      },
      "source": [
        "### Indexing and Slicing Strings"
      ]
    },
    {
      "cell_type": "code",
      "metadata": {
        "id": "fkoFRxd2fOVN",
        "colab_type": "code",
        "colab": {}
      },
      "source": [
        "spam = \"Hello, World!\""
      ],
      "execution_count": 0,
      "outputs": []
    },
    {
      "cell_type": "code",
      "metadata": {
        "id": "zgLQkBcBhReu",
        "colab_type": "code",
        "outputId": "ae4d5f77-46a7-46f0-db9b-49193663aa79",
        "colab": {
          "base_uri": "https://localhost:8080/",
          "height": 34
        }
      },
      "source": [
        "spam[0]"
      ],
      "execution_count": 0,
      "outputs": [
        {
          "output_type": "execute_result",
          "data": {
            "text/plain": [
              "'H'"
            ]
          },
          "metadata": {
            "tags": []
          },
          "execution_count": 31
        }
      ]
    },
    {
      "cell_type": "code",
      "metadata": {
        "id": "mdPRgHTFhStN",
        "colab_type": "code",
        "outputId": "3fc035e7-c64f-408d-e5bd-9491c9e3a6c8",
        "colab": {
          "base_uri": "https://localhost:8080/",
          "height": 34
        }
      },
      "source": [
        "spam[-1]"
      ],
      "execution_count": 0,
      "outputs": [
        {
          "output_type": "execute_result",
          "data": {
            "text/plain": [
              "'!'"
            ]
          },
          "metadata": {
            "tags": []
          },
          "execution_count": 32
        }
      ]
    },
    {
      "cell_type": "code",
      "metadata": {
        "id": "jnk50-iJhVFd",
        "colab_type": "code",
        "outputId": "02601e58-6fb9-4c57-b5b3-be2ee9181c9d",
        "colab": {
          "base_uri": "https://localhost:8080/",
          "height": 34
        }
      },
      "source": [
        "spam[0:5]"
      ],
      "execution_count": 0,
      "outputs": [
        {
          "output_type": "execute_result",
          "data": {
            "text/plain": [
              "'Hello'"
            ]
          },
          "metadata": {
            "tags": []
          },
          "execution_count": 33
        }
      ]
    },
    {
      "cell_type": "code",
      "metadata": {
        "id": "buuZezSmhYs9",
        "colab_type": "code",
        "outputId": "150969bb-2db7-4cf0-99b2-811834fdbb80",
        "colab": {
          "base_uri": "https://localhost:8080/",
          "height": 34
        }
      },
      "source": [
        "spam[7:]"
      ],
      "execution_count": 0,
      "outputs": [
        {
          "output_type": "execute_result",
          "data": {
            "text/plain": [
              "'World!'"
            ]
          },
          "metadata": {
            "tags": []
          },
          "execution_count": 34
        }
      ]
    },
    {
      "cell_type": "code",
      "metadata": {
        "id": "AOTYsDhGhdSN",
        "colab_type": "code",
        "outputId": "c0a7a93f-47a4-4555-f0e1-c42db7b1bb8a",
        "colab": {
          "base_uri": "https://localhost:8080/",
          "height": 34
        }
      },
      "source": [
        "spam[-6:]"
      ],
      "execution_count": 0,
      "outputs": [
        {
          "output_type": "execute_result",
          "data": {
            "text/plain": [
              "'World!'"
            ]
          },
          "metadata": {
            "tags": []
          },
          "execution_count": 35
        }
      ]
    },
    {
      "cell_type": "code",
      "metadata": {
        "id": "e8gCOUyDhlx-",
        "colab_type": "code",
        "outputId": "7d0d42a2-b7d5-4906-ac68-0bad4450cf6e",
        "colab": {
          "base_uri": "https://localhost:8080/",
          "height": 34
        }
      },
      "source": [
        "spam[0:-5]"
      ],
      "execution_count": 0,
      "outputs": [
        {
          "output_type": "execute_result",
          "data": {
            "text/plain": [
              "'Hello, W'"
            ]
          },
          "metadata": {
            "tags": []
          },
          "execution_count": 39
        }
      ]
    },
    {
      "cell_type": "markdown",
      "metadata": {
        "id": "SEAGCq44iUTB",
        "colab_type": "text"
      },
      "source": [
        "### \"in\" and \"not in\" operators"
      ]
    },
    {
      "cell_type": "code",
      "metadata": {
        "id": "HvZu5SbXhw99",
        "colab_type": "code",
        "outputId": "b7a9c79e-9160-4a0f-9e7b-18209775ac41",
        "colab": {
          "base_uri": "https://localhost:8080/",
          "height": 34
        }
      },
      "source": [
        "'hello' in 'hello, world'"
      ],
      "execution_count": 0,
      "outputs": [
        {
          "output_type": "execute_result",
          "data": {
            "text/plain": [
              "True"
            ]
          },
          "metadata": {
            "tags": []
          },
          "execution_count": 40
        }
      ]
    },
    {
      "cell_type": "code",
      "metadata": {
        "id": "PXsdVabYigMu",
        "colab_type": "code",
        "outputId": "a91ff0ed-e9eb-4b95-c904-c9d78891e0c1",
        "colab": {
          "base_uri": "https://localhost:8080/",
          "height": 34
        }
      },
      "source": [
        "'Hello' in 'hello world'"
      ],
      "execution_count": 0,
      "outputs": [
        {
          "output_type": "execute_result",
          "data": {
            "text/plain": [
              "False"
            ]
          },
          "metadata": {
            "tags": []
          },
          "execution_count": 41
        }
      ]
    },
    {
      "cell_type": "code",
      "metadata": {
        "id": "sUtW3gcQij-d",
        "colab_type": "code",
        "outputId": "a8548ac8-f0f2-4230-ad14-0845b05ad085",
        "colab": {
          "base_uri": "https://localhost:8080/",
          "height": 34
        }
      },
      "source": [
        "'Hello' not in 'hello world'"
      ],
      "execution_count": 0,
      "outputs": [
        {
          "output_type": "execute_result",
          "data": {
            "text/plain": [
              "True"
            ]
          },
          "metadata": {
            "tags": []
          },
          "execution_count": 42
        }
      ]
    },
    {
      "cell_type": "code",
      "metadata": {
        "id": "1shDimlOion-",
        "colab_type": "code",
        "outputId": "1788ebcd-6157-4eb8-894a-5f2d06c6c48a",
        "colab": {
          "base_uri": "https://localhost:8080/",
          "height": 34
        }
      },
      "source": [
        "'hello' not in 'hello world'"
      ],
      "execution_count": 0,
      "outputs": [
        {
          "output_type": "execute_result",
          "data": {
            "text/plain": [
              "False"
            ]
          },
          "metadata": {
            "tags": []
          },
          "execution_count": 43
        }
      ]
    },
    {
      "cell_type": "markdown",
      "metadata": {
        "id": "iLF6-qrxlr07",
        "colab_type": "text"
      },
      "source": [
        "### Concatenating Strings"
      ]
    },
    {
      "cell_type": "code",
      "metadata": {
        "id": "_kSbe02yiskd",
        "colab_type": "code",
        "colab": {}
      },
      "source": [
        "name = \"Maddy\"\n",
        "age = 27"
      ],
      "execution_count": 0,
      "outputs": []
    },
    {
      "cell_type": "code",
      "metadata": {
        "id": "rNlD8ODnmP50",
        "colab_type": "code",
        "outputId": "9e05054a-f751-4a0c-abb6-62a5df2d6186",
        "colab": {
          "base_uri": "https://localhost:8080/",
          "height": 34
        }
      },
      "source": [
        "# Using + operator\n",
        "\"My name is \" + name + \". I am \" + str(age) + \" years old\""
      ],
      "execution_count": 0,
      "outputs": [
        {
          "output_type": "execute_result",
          "data": {
            "text/plain": [
              "'My name is Maddy. I am 27 years old'"
            ]
          },
          "metadata": {
            "tags": []
          },
          "execution_count": 47
        }
      ]
    },
    {
      "cell_type": "code",
      "metadata": {
        "id": "XfhE4ayQmWjt",
        "colab_type": "code",
        "outputId": "69bac7bd-a77e-40b6-874e-1b4c1cd49fa0",
        "colab": {
          "base_uri": "https://localhost:8080/",
          "height": 34
        }
      },
      "source": [
        "# String interpolation\n",
        "\"My name is %s. I am %s years old\" % (name,age)"
      ],
      "execution_count": 0,
      "outputs": [
        {
          "output_type": "execute_result",
          "data": {
            "text/plain": [
              "'My name is Maddy. I am 27 years old'"
            ]
          },
          "metadata": {
            "tags": []
          },
          "execution_count": 50
        }
      ]
    },
    {
      "cell_type": "code",
      "metadata": {
        "id": "E7Gy46PUmvpf",
        "colab_type": "code",
        "outputId": "d4df1e4c-5050-400b-cad3-8f245a2e8bb4",
        "colab": {
          "base_uri": "https://localhost:8080/",
          "height": 34
        }
      },
      "source": [
        "# f-strings\n",
        "f\"My name is {name}. I am {age + 1} years old\""
      ],
      "execution_count": 0,
      "outputs": [
        {
          "output_type": "execute_result",
          "data": {
            "text/plain": [
              "'My name is Maddy. I am 28 years old'"
            ]
          },
          "metadata": {
            "tags": []
          },
          "execution_count": 51
        }
      ]
    },
    {
      "cell_type": "markdown",
      "metadata": {
        "id": "qWwUoCTUnnZq",
        "colab_type": "text"
      },
      "source": [
        "### String Methods"
      ]
    },
    {
      "cell_type": "code",
      "metadata": {
        "id": "cv_g01HunHUO",
        "colab_type": "code",
        "colab": {
          "base_uri": "https://localhost:8080/",
          "height": 34
        },
        "outputId": "a0cbf295-bfb5-4460-db03-72d043c1beeb"
      },
      "source": [
        "# upper()\n",
        "spam = 'Hello World!'\n",
        "spam = spam.upper()\n",
        "spam"
      ],
      "execution_count": 1,
      "outputs": [
        {
          "output_type": "execute_result",
          "data": {
            "text/plain": [
              "'HELLO WORLD!'"
            ]
          },
          "metadata": {
            "tags": []
          },
          "execution_count": 1
        }
      ]
    },
    {
      "cell_type": "code",
      "metadata": {
        "id": "go11viyFntbO",
        "colab_type": "code",
        "colab": {
          "base_uri": "https://localhost:8080/",
          "height": 34
        },
        "outputId": "5926a50d-36b6-4cfe-e11b-ad3984885b49"
      },
      "source": [
        "# upper()\n",
        "spam = 'Hello World!'\n",
        "spam = spam.lower()\n",
        "spam"
      ],
      "execution_count": 2,
      "outputs": [
        {
          "output_type": "execute_result",
          "data": {
            "text/plain": [
              "'hello world!'"
            ]
          },
          "metadata": {
            "tags": []
          },
          "execution_count": 2
        }
      ]
    },
    {
      "cell_type": "code",
      "metadata": {
        "id": "BtBYWUShntpN",
        "colab_type": "code",
        "colab": {
          "base_uri": "https://localhost:8080/",
          "height": 67
        },
        "outputId": "b476e4ea-046f-4728-cd2e-6577285b6a64"
      },
      "source": [
        "# Example program\n",
        "print(\"How are you feeling?\")\n",
        "feel = input() # This is how you take input from the keyboard from the user\n",
        "if feel.lower() == \"great\":\n",
        "  print(\"I'm feeling great\")\n",
        "else:\n",
        "  print(\"I'm fine\")"
      ],
      "execution_count": 5,
      "outputs": [
        {
          "output_type": "stream",
          "text": [
            "How are you feeling?\n",
            "great\n",
            "I'm feeling great\n"
          ],
          "name": "stdout"
        }
      ]
    },
    {
      "cell_type": "code",
      "metadata": {
        "id": "g88dHGlfntx9",
        "colab_type": "code",
        "colab": {
          "base_uri": "https://localhost:8080/",
          "height": 34
        },
        "outputId": "fb30787b-2bb7-4007-d041-24c5103a451f"
      },
      "source": [
        "# isupper()\n",
        "spam = 'Hello World!'\n",
        "spam.isupper()"
      ],
      "execution_count": 7,
      "outputs": [
        {
          "output_type": "execute_result",
          "data": {
            "text/plain": [
              "False"
            ]
          },
          "metadata": {
            "tags": []
          },
          "execution_count": 7
        }
      ]
    },
    {
      "cell_type": "code",
      "metadata": {
        "id": "6NM0ImMrnt8d",
        "colab_type": "code",
        "colab": {
          "base_uri": "https://localhost:8080/",
          "height": 34
        },
        "outputId": "f57127bd-bca8-4810-d4d1-efde23e26354"
      },
      "source": [
        "# islower()\n",
        "spam = 'Hello World!'\n",
        "spam.islower()\n"
      ],
      "execution_count": 8,
      "outputs": [
        {
          "output_type": "execute_result",
          "data": {
            "text/plain": [
              "False"
            ]
          },
          "metadata": {
            "tags": []
          },
          "execution_count": 8
        }
      ]
    },
    {
      "cell_type": "code",
      "metadata": {
        "id": "5uu6RfCtnuBN",
        "colab_type": "code",
        "colab": {
          "base_uri": "https://localhost:8080/",
          "height": 34
        },
        "outputId": "5e028053-3004-4865-c6a7-31147eca00c2"
      },
      "source": [
        "\"abcd1234\".islower()"
      ],
      "execution_count": 9,
      "outputs": [
        {
          "output_type": "execute_result",
          "data": {
            "text/plain": [
              "True"
            ]
          },
          "metadata": {
            "tags": []
          },
          "execution_count": 9
        }
      ]
    },
    {
      "cell_type": "code",
      "metadata": {
        "id": "tbNryeEinuD9",
        "colab_type": "code",
        "colab": {
          "base_uri": "https://localhost:8080/",
          "height": 34
        },
        "outputId": "13cb83a3-94c7-4779-f625-6c809b6fa426"
      },
      "source": [
        "\"1245\".isupper()"
      ],
      "execution_count": 10,
      "outputs": [
        {
          "output_type": "execute_result",
          "data": {
            "text/plain": [
              "False"
            ]
          },
          "metadata": {
            "tags": []
          },
          "execution_count": 10
        }
      ]
    },
    {
      "cell_type": "code",
      "metadata": {
        "id": "NwCRaAHSnuGt",
        "colab_type": "code",
        "colab": {
          "base_uri": "https://localhost:8080/",
          "height": 34
        },
        "outputId": "5d610bcd-eb75-4d03-e853-77b3b2373198"
      },
      "source": [
        "\"1245\".islower()"
      ],
      "execution_count": 11,
      "outputs": [
        {
          "output_type": "execute_result",
          "data": {
            "text/plain": [
              "False"
            ]
          },
          "metadata": {
            "tags": []
          },
          "execution_count": 11
        }
      ]
    },
    {
      "cell_type": "code",
      "metadata": {
        "id": "aHG3a4iRnuJg",
        "colab_type": "code",
        "colab": {
          "base_uri": "https://localhost:8080/",
          "height": 34
        },
        "outputId": "d3533e8c-513c-4e46-8e82-da31d9002dc4"
      },
      "source": [
        "\"hello\".isalpha()"
      ],
      "execution_count": 12,
      "outputs": [
        {
          "output_type": "execute_result",
          "data": {
            "text/plain": [
              "True"
            ]
          },
          "metadata": {
            "tags": []
          },
          "execution_count": 12
        }
      ]
    },
    {
      "cell_type": "code",
      "metadata": {
        "id": "6imj-1U7nuMG",
        "colab_type": "code",
        "colab": {
          "base_uri": "https://localhost:8080/",
          "height": 34
        },
        "outputId": "11a8a8c7-0c0d-4238-d637-1f1dd6340c0b"
      },
      "source": [
        "\"hello123\".isalpha()"
      ],
      "execution_count": 13,
      "outputs": [
        {
          "output_type": "execute_result",
          "data": {
            "text/plain": [
              "False"
            ]
          },
          "metadata": {
            "tags": []
          },
          "execution_count": 13
        }
      ]
    },
    {
      "cell_type": "code",
      "metadata": {
        "id": "UKcgBEU5nuOv",
        "colab_type": "code",
        "colab": {
          "base_uri": "https://localhost:8080/",
          "height": 34
        },
        "outputId": "acf8d2e1-f1d3-427b-94f4-193250caab59"
      },
      "source": [
        "\"hello\".isalnum()"
      ],
      "execution_count": 14,
      "outputs": [
        {
          "output_type": "execute_result",
          "data": {
            "text/plain": [
              "True"
            ]
          },
          "metadata": {
            "tags": []
          },
          "execution_count": 14
        }
      ]
    },
    {
      "cell_type": "code",
      "metadata": {
        "id": "gWQJzONcDBqE",
        "colab_type": "code",
        "colab": {
          "base_uri": "https://localhost:8080/",
          "height": 34
        },
        "outputId": "4b85e081-8655-493c-dc4a-99de55c8c148"
      },
      "source": [
        "\"hello123\".isalnum()"
      ],
      "execution_count": 17,
      "outputs": [
        {
          "output_type": "execute_result",
          "data": {
            "text/plain": [
              "True"
            ]
          },
          "metadata": {
            "tags": []
          },
          "execution_count": 17
        }
      ]
    },
    {
      "cell_type": "code",
      "metadata": {
        "id": "gDHxLM97DHGs",
        "colab_type": "code",
        "colab": {
          "base_uri": "https://localhost:8080/",
          "height": 34
        },
        "outputId": "c6a84f63-190f-4671-e485-91fdea17b8b7"
      },
      "source": [
        "\"123\".isdecimal()"
      ],
      "execution_count": 18,
      "outputs": [
        {
          "output_type": "execute_result",
          "data": {
            "text/plain": [
              "True"
            ]
          },
          "metadata": {
            "tags": []
          },
          "execution_count": 18
        }
      ]
    },
    {
      "cell_type": "code",
      "metadata": {
        "id": "HlN3_qY1DRep",
        "colab_type": "code",
        "colab": {
          "base_uri": "https://localhost:8080/",
          "height": 34
        },
        "outputId": "912fbd18-0a14-407a-9831-b7b72c01d7fd"
      },
      "source": [
        "\"123.5\".isdecimal()"
      ],
      "execution_count": 19,
      "outputs": [
        {
          "output_type": "execute_result",
          "data": {
            "text/plain": [
              "False"
            ]
          },
          "metadata": {
            "tags": []
          },
          "execution_count": 19
        }
      ]
    },
    {
      "cell_type": "code",
      "metadata": {
        "id": "y9oJhAqSDVnv",
        "colab_type": "code",
        "colab": {
          "base_uri": "https://localhost:8080/",
          "height": 34
        },
        "outputId": "73c2d73e-0d38-489c-a1d5-c69389d47a2e"
      },
      "source": [
        "\" \".isspace()"
      ],
      "execution_count": 20,
      "outputs": [
        {
          "output_type": "execute_result",
          "data": {
            "text/plain": [
              "True"
            ]
          },
          "metadata": {
            "tags": []
          },
          "execution_count": 20
        }
      ]
    },
    {
      "cell_type": "code",
      "metadata": {
        "id": "NtldtwcoDb8A",
        "colab_type": "code",
        "colab": {
          "base_uri": "https://localhost:8080/",
          "height": 34
        },
        "outputId": "6c3528a2-3455-45a0-ba54-b85768a55422"
      },
      "source": [
        "\"\".isspace()"
      ],
      "execution_count": 21,
      "outputs": [
        {
          "output_type": "execute_result",
          "data": {
            "text/plain": [
              "False"
            ]
          },
          "metadata": {
            "tags": []
          },
          "execution_count": 21
        }
      ]
    },
    {
      "cell_type": "code",
      "metadata": {
        "id": "r0fNJmbwDd4d",
        "colab_type": "code",
        "colab": {
          "base_uri": "https://localhost:8080/",
          "height": 34
        },
        "outputId": "f01f814a-9409-4e3a-b12b-6c36572c572a"
      },
      "source": [
        "\"\\n\".isspace()"
      ],
      "execution_count": 22,
      "outputs": [
        {
          "output_type": "execute_result",
          "data": {
            "text/plain": [
              "True"
            ]
          },
          "metadata": {
            "tags": []
          },
          "execution_count": 22
        }
      ]
    },
    {
      "cell_type": "code",
      "metadata": {
        "id": "16m9SmFkDgsl",
        "colab_type": "code",
        "colab": {
          "base_uri": "https://localhost:8080/",
          "height": 34
        },
        "outputId": "9d80ba4f-e771-4e09-f551-a69438612e4b"
      },
      "source": [
        "\"\\t\".isspace()"
      ],
      "execution_count": 23,
      "outputs": [
        {
          "output_type": "execute_result",
          "data": {
            "text/plain": [
              "True"
            ]
          },
          "metadata": {
            "tags": []
          },
          "execution_count": 23
        }
      ]
    },
    {
      "cell_type": "code",
      "metadata": {
        "id": "tEPbrnKzDi7-",
        "colab_type": "code",
        "colab": {
          "base_uri": "https://localhost:8080/",
          "height": 34
        },
        "outputId": "3f274896-8d2a-4465-fcc7-b6c14aca5cd5"
      },
      "source": [
        "\"This Is A Title\".istitle()"
      ],
      "execution_count": 24,
      "outputs": [
        {
          "output_type": "execute_result",
          "data": {
            "text/plain": [
              "True"
            ]
          },
          "metadata": {
            "tags": []
          },
          "execution_count": 24
        }
      ]
    },
    {
      "cell_type": "code",
      "metadata": {
        "id": "w2Jzu_s3DziI",
        "colab_type": "code",
        "colab": {
          "base_uri": "https://localhost:8080/",
          "height": 34
        },
        "outputId": "b7595bb8-4cdd-4cc1-8515-2ea6019f493d"
      },
      "source": [
        "\"This is Not A Title\".istitle()"
      ],
      "execution_count": 25,
      "outputs": [
        {
          "output_type": "execute_result",
          "data": {
            "text/plain": [
              "False"
            ]
          },
          "metadata": {
            "tags": []
          },
          "execution_count": 25
        }
      ]
    },
    {
      "cell_type": "code",
      "metadata": {
        "id": "vg_2wNk0D53A",
        "colab_type": "code",
        "colab": {
          "base_uri": "https://localhost:8080/",
          "height": 185
        },
        "outputId": "ae9030bd-4edb-4955-c1c9-0a77cb7e905d"
      },
      "source": [
        "# Exmaple program\n",
        "while True:\n",
        "  print(\"Enter your age\")\n",
        "  age = input()\n",
        "  if age.isdecimal():\n",
        "    break\n",
        "  print(\"Please enter number for your age.\")\n",
        "\n",
        "while True:\n",
        "  print(\"Enter your password (Only alphanumeric characters)\")\n",
        "  password = input()\n",
        "  if password.isalnum():\n",
        "    break\n",
        "  print(\"Passwords can only have letters and numbers.\")"
      ],
      "execution_count": 26,
      "outputs": [
        {
          "output_type": "stream",
          "text": [
            "Enter your age\n",
            "forty two\n",
            "Please enter number for your age.\n",
            "Enter your age\n",
            "42\n",
            "Enter your password (Only alphanumeric characters)\n",
            "M@ddy\n",
            "Passwords can only have letters and numbers.\n",
            "Enter your password (Only alphanumeric characters)\n",
            "Maddy\n"
          ],
          "name": "stdout"
        }
      ]
    },
    {
      "cell_type": "code",
      "metadata": {
        "id": "JUAzlTOdGQfj",
        "colab_type": "code",
        "colab": {
          "base_uri": "https://localhost:8080/",
          "height": 34
        },
        "outputId": "9f33ba3c-f70e-425a-ca78-2c1de9fd985b"
      },
      "source": [
        "\"Hello World!\".startswith(\"He\")"
      ],
      "execution_count": 27,
      "outputs": [
        {
          "output_type": "execute_result",
          "data": {
            "text/plain": [
              "True"
            ]
          },
          "metadata": {
            "tags": []
          },
          "execution_count": 27
        }
      ]
    },
    {
      "cell_type": "code",
      "metadata": {
        "id": "eEqI7nI0N9c2",
        "colab_type": "code",
        "colab": {
          "base_uri": "https://localhost:8080/",
          "height": 34
        },
        "outputId": "56dd73fc-e5fd-4901-acc5-a92c9a0fdc97"
      },
      "source": [
        "\"Hello World!\".endswith(\"d!\")"
      ],
      "execution_count": 28,
      "outputs": [
        {
          "output_type": "execute_result",
          "data": {
            "text/plain": [
              "True"
            ]
          },
          "metadata": {
            "tags": []
          },
          "execution_count": 28
        }
      ]
    },
    {
      "cell_type": "code",
      "metadata": {
        "id": "-Zl2hNQFOElO",
        "colab_type": "code",
        "colab": {
          "base_uri": "https://localhost:8080/",
          "height": 34
        },
        "outputId": "94e9a326-8407-4e5b-e0b0-a0cbc18c2626"
      },
      "source": [
        "\"Hello World\".startswith(\"hell\")"
      ],
      "execution_count": 29,
      "outputs": [
        {
          "output_type": "execute_result",
          "data": {
            "text/plain": [
              "False"
            ]
          },
          "metadata": {
            "tags": []
          },
          "execution_count": 29
        }
      ]
    },
    {
      "cell_type": "code",
      "metadata": {
        "id": "TiNEKQtnOG04",
        "colab_type": "code",
        "colab": {
          "base_uri": "https://localhost:8080/",
          "height": 34
        },
        "outputId": "69b26a7d-19c5-47f4-d2ff-25bc8493332c"
      },
      "source": [
        "\", \".join(['cats','dogs','mouse'])"
      ],
      "execution_count": 30,
      "outputs": [
        {
          "output_type": "execute_result",
          "data": {
            "text/plain": [
              "'cats, dogs, mouse'"
            ]
          },
          "metadata": {
            "tags": []
          },
          "execution_count": 30
        }
      ]
    },
    {
      "cell_type": "code",
      "metadata": {
        "id": "9hgJZSQrOHAp",
        "colab_type": "code",
        "colab": {
          "base_uri": "https://localhost:8080/",
          "height": 34
        },
        "outputId": "e39fc61c-e830-4f34-dce5-f1560872dd2d"
      },
      "source": [
        "txt = \"My name is Maddy\".split()\n",
        "txt"
      ],
      "execution_count": 32,
      "outputs": [
        {
          "output_type": "execute_result",
          "data": {
            "text/plain": [
              "['My', 'name', 'is', 'Maddy']"
            ]
          },
          "metadata": {
            "tags": []
          },
          "execution_count": 32
        }
      ]
    },
    {
      "cell_type": "code",
      "metadata": {
        "id": "h0mabCLxOHEW",
        "colab_type": "code",
        "colab": {
          "base_uri": "https://localhost:8080/",
          "height": 34
        },
        "outputId": "e4c8c205-47a0-401b-a7f2-685de6e92ddf"
      },
      "source": [
        "txtABC =\"ABC\".join(txt)\n",
        "txtABC"
      ],
      "execution_count": 34,
      "outputs": [
        {
          "output_type": "execute_result",
          "data": {
            "text/plain": [
              "'MyABCnameABCisABCMaddy'"
            ]
          },
          "metadata": {
            "tags": []
          },
          "execution_count": 34
        }
      ]
    },
    {
      "cell_type": "code",
      "metadata": {
        "id": "hull7MR0OHIN",
        "colab_type": "code",
        "colab": {
          "base_uri": "https://localhost:8080/",
          "height": 34
        },
        "outputId": "8ef98912-4d7c-4805-c6ec-b8b5497066bb"
      },
      "source": [
        "txtABC.split(\"ABC\")"
      ],
      "execution_count": 35,
      "outputs": [
        {
          "output_type": "execute_result",
          "data": {
            "text/plain": [
              "['My', 'name', 'is', 'Maddy']"
            ]
          },
          "metadata": {
            "tags": []
          },
          "execution_count": 35
        }
      ]
    },
    {
      "cell_type": "code",
      "metadata": {
        "id": "FfuSAg7GQn9Q",
        "colab_type": "code",
        "colab": {
          "base_uri": "https://localhost:8080/",
          "height": 34
        },
        "outputId": "73c75a22-5acd-4081-940a-547b2b967d06"
      },
      "source": [
        "\"Hello World!\".partition(\"W\")"
      ],
      "execution_count": 41,
      "outputs": [
        {
          "output_type": "execute_result",
          "data": {
            "text/plain": [
              "('Hello ', 'W', 'orld!')"
            ]
          },
          "metadata": {
            "tags": []
          },
          "execution_count": 41
        }
      ]
    },
    {
      "cell_type": "code",
      "metadata": {
        "id": "sc6xNymSQqWQ",
        "colab_type": "code",
        "colab": {
          "base_uri": "https://localhost:8080/",
          "height": 34
        },
        "outputId": "e83bb748-e958-428b-cf65-078128f27c43"
      },
      "source": [
        "\"Hello World!\".partition(\"o\")"
      ],
      "execution_count": 38,
      "outputs": [
        {
          "output_type": "execute_result",
          "data": {
            "text/plain": [
              "('Hell', 'o', ' World!')"
            ]
          },
          "metadata": {
            "tags": []
          },
          "execution_count": 38
        }
      ]
    },
    {
      "cell_type": "code",
      "metadata": {
        "id": "Q7__MD1EQqbH",
        "colab_type": "code",
        "colab": {
          "base_uri": "https://localhost:8080/",
          "height": 34
        },
        "outputId": "930b5b30-c8c4-4a17-bcd5-3b4be5201dac"
      },
      "source": [
        "\"Hello World!\".partition(\"XYZ\")"
      ],
      "execution_count": 39,
      "outputs": [
        {
          "output_type": "execute_result",
          "data": {
            "text/plain": [
              "('Hello World!', '', '')"
            ]
          },
          "metadata": {
            "tags": []
          },
          "execution_count": 39
        }
      ]
    },
    {
      "cell_type": "code",
      "metadata": {
        "id": "TmDIOO2TQqfR",
        "colab_type": "code",
        "colab": {
          "base_uri": "https://localhost:8080/",
          "height": 34
        },
        "outputId": "7f46bc6c-dbaa-40b8-fa26-4279f86c2a31"
      },
      "source": [
        "before, seperator, after = \"Hello World!\".partition(\" \")\n",
        "before, seperator, after"
      ],
      "execution_count": 42,
      "outputs": [
        {
          "output_type": "execute_result",
          "data": {
            "text/plain": [
              "('Hello', ' ', 'World!')"
            ]
          },
          "metadata": {
            "tags": []
          },
          "execution_count": 42
        }
      ]
    },
    {
      "cell_type": "code",
      "metadata": {
        "id": "iR0kLGWEQq7m",
        "colab_type": "code",
        "colab": {
          "base_uri": "https://localhost:8080/",
          "height": 34
        },
        "outputId": "4b5fbb03-a8aa-428f-f416-3f91ed71fb53"
      },
      "source": [
        "\"Hello\".rjust(10)"
      ],
      "execution_count": 43,
      "outputs": [
        {
          "output_type": "execute_result",
          "data": {
            "text/plain": [
              "'     Hello'"
            ]
          },
          "metadata": {
            "tags": []
          },
          "execution_count": 43
        }
      ]
    },
    {
      "cell_type": "code",
      "metadata": {
        "id": "TdY3t1B3QrFZ",
        "colab_type": "code",
        "colab": {
          "base_uri": "https://localhost:8080/",
          "height": 34
        },
        "outputId": "2c023a1e-5ab1-4666-825a-bb47cf733428"
      },
      "source": [
        "\"Hello\".rjust(20,\"*\")"
      ],
      "execution_count": 44,
      "outputs": [
        {
          "output_type": "execute_result",
          "data": {
            "text/plain": [
              "'***************Hello'"
            ]
          },
          "metadata": {
            "tags": []
          },
          "execution_count": 44
        }
      ]
    },
    {
      "cell_type": "code",
      "metadata": {
        "id": "BadnrSylUH79",
        "colab_type": "code",
        "colab": {
          "base_uri": "https://localhost:8080/",
          "height": 34
        },
        "outputId": "f5e9a45b-ad78-4b8a-8d40-cc48294b7b9e"
      },
      "source": [
        "\"Hello World\".ljust(20)"
      ],
      "execution_count": 45,
      "outputs": [
        {
          "output_type": "execute_result",
          "data": {
            "text/plain": [
              "'Hello World         '"
            ]
          },
          "metadata": {
            "tags": []
          },
          "execution_count": 45
        }
      ]
    },
    {
      "cell_type": "code",
      "metadata": {
        "id": "LhoVPp5lUOIH",
        "colab_type": "code",
        "colab": {
          "base_uri": "https://localhost:8080/",
          "height": 34
        },
        "outputId": "d260a6d8-afa9-4e0b-d0a0-57e46ac14ccf"
      },
      "source": [
        "\"Hello World\".ljust(10,\"-\")"
      ],
      "execution_count": 46,
      "outputs": [
        {
          "output_type": "execute_result",
          "data": {
            "text/plain": [
              "'Hello World'"
            ]
          },
          "metadata": {
            "tags": []
          },
          "execution_count": 46
        }
      ]
    },
    {
      "cell_type": "code",
      "metadata": {
        "id": "iI4q60MTUUp0",
        "colab_type": "code",
        "colab": {
          "base_uri": "https://localhost:8080/",
          "height": 34
        },
        "outputId": "2c982358-1f63-429e-fb5b-58b3dc7fb121"
      },
      "source": [
        "\"Hello World\".ljust(20,\"-\")"
      ],
      "execution_count": 47,
      "outputs": [
        {
          "output_type": "execute_result",
          "data": {
            "text/plain": [
              "'Hello World---------'"
            ]
          },
          "metadata": {
            "tags": []
          },
          "execution_count": 47
        }
      ]
    },
    {
      "cell_type": "code",
      "metadata": {
        "id": "94lB-si7UaLZ",
        "colab_type": "code",
        "colab": {
          "base_uri": "https://localhost:8080/",
          "height": 34
        },
        "outputId": "da614017-bd0b-4d52-cdae-96b17c10ee22"
      },
      "source": [
        "\"Hello\".center(20)"
      ],
      "execution_count": 48,
      "outputs": [
        {
          "output_type": "execute_result",
          "data": {
            "text/plain": [
              "'       Hello        '"
            ]
          },
          "metadata": {
            "tags": []
          },
          "execution_count": 48
        }
      ]
    },
    {
      "cell_type": "code",
      "metadata": {
        "id": "e65XSlGIUdsd",
        "colab_type": "code",
        "colab": {
          "base_uri": "https://localhost:8080/",
          "height": 34
        },
        "outputId": "5559d114-84a0-459d-cc0a-765d5d7187f4"
      },
      "source": [
        "\"Hello\".center(20,\"@\")"
      ],
      "execution_count": 49,
      "outputs": [
        {
          "output_type": "execute_result",
          "data": {
            "text/plain": [
              "'@@@@@@@Hello@@@@@@@@'"
            ]
          },
          "metadata": {
            "tags": []
          },
          "execution_count": 49
        }
      ]
    },
    {
      "cell_type": "code",
      "metadata": {
        "id": "ORPKxqQmUhWO",
        "colab_type": "code",
        "colab": {}
      },
      "source": [
        "# Example Program\n",
        "def printMenu(itemsDict, leftWidth, rightWidth):\n",
        "  print(\"MENU\".center(leftWidth + rightWidth, \"-\"))\n",
        "  print(\"ITEMS\".ljust(leftWidth,\".\") + \"QUANTITY\".rjust(rightWidth))\n",
        "  for k, v in itemsDict.items():\n",
        "    print(k.ljust(leftWidth,\".\") + str(v).rjust(rightWidth))\n"
      ],
      "execution_count": 0,
      "outputs": []
    },
    {
      "cell_type": "code",
      "metadata": {
        "id": "lQFdKPB2V-hz",
        "colab_type": "code",
        "colab": {
          "base_uri": "https://localhost:8080/",
          "height": 101
        },
        "outputId": "3d2255f6-cc3d-45a4-8a16-61e9663f49ca"
      },
      "source": [
        "hotelMenuDict = {\"Sandwich\": 4, \"Bread\": 12, \"Jam\": 2}\n",
        "printMenu(hotelMenuDict,12,4)"
      ],
      "execution_count": 56,
      "outputs": [
        {
          "output_type": "stream",
          "text": [
            "------MENU------\n",
            "ITEMS.......QUANTITY\n",
            "Sandwich....   4\n",
            "Bread.......  12\n",
            "Jam.........   2\n"
          ],
          "name": "stdout"
        }
      ]
    },
    {
      "cell_type": "code",
      "metadata": {
        "id": "4CFzRw5aV-vI",
        "colab_type": "code",
        "colab": {
          "base_uri": "https://localhost:8080/",
          "height": 101
        },
        "outputId": "4a6b4efd-1687-42fb-abc5-b8bdcb666b77"
      },
      "source": [
        "printMenu(hotelMenuDict, 25, 5)"
      ],
      "execution_count": 57,
      "outputs": [
        {
          "output_type": "stream",
          "text": [
            "-------------MENU-------------\n",
            "ITEMS....................QUANTITY\n",
            "Sandwich.................    4\n",
            "Bread....................   12\n",
            "Jam......................    2\n"
          ],
          "name": "stdout"
        }
      ]
    },
    {
      "cell_type": "code",
      "metadata": {
        "id": "_zyn0jFKV-55",
        "colab_type": "code",
        "colab": {}
      },
      "source": [
        "spam = \"           Hello World                   \""
      ],
      "execution_count": 0,
      "outputs": []
    },
    {
      "cell_type": "code",
      "metadata": {
        "id": "0J-3LaE7V_CP",
        "colab_type": "code",
        "colab": {
          "base_uri": "https://localhost:8080/",
          "height": 34
        },
        "outputId": "01593060-5f47-4757-a09e-2fa468d6e524"
      },
      "source": [
        "spam.strip()"
      ],
      "execution_count": 59,
      "outputs": [
        {
          "output_type": "execute_result",
          "data": {
            "text/plain": [
              "'Hello World'"
            ]
          },
          "metadata": {
            "tags": []
          },
          "execution_count": 59
        }
      ]
    },
    {
      "cell_type": "code",
      "metadata": {
        "id": "Z-KI8DLfV_Jq",
        "colab_type": "code",
        "colab": {
          "base_uri": "https://localhost:8080/",
          "height": 34
        },
        "outputId": "6acd144f-f91b-4411-f3a1-3ba47505c874"
      },
      "source": [
        "spam.lstrip()"
      ],
      "execution_count": 60,
      "outputs": [
        {
          "output_type": "execute_result",
          "data": {
            "text/plain": [
              "'Hello World                   '"
            ]
          },
          "metadata": {
            "tags": []
          },
          "execution_count": 60
        }
      ]
    },
    {
      "cell_type": "code",
      "metadata": {
        "id": "MFPMLNnuV_UJ",
        "colab_type": "code",
        "colab": {
          "base_uri": "https://localhost:8080/",
          "height": 34
        },
        "outputId": "c3d799a9-ba95-48ab-a100-997b01eebc78"
      },
      "source": [
        "spam.rstrip()"
      ],
      "execution_count": 61,
      "outputs": [
        {
          "output_type": "execute_result",
          "data": {
            "text/plain": [
              "'           Hello World'"
            ]
          },
          "metadata": {
            "tags": []
          },
          "execution_count": 61
        }
      ]
    },
    {
      "cell_type": "code",
      "metadata": {
        "id": "7KtN9jLOV_Y0",
        "colab_type": "code",
        "colab": {}
      },
      "source": [
        "spam = \"SpamSpamBaconSpamEggsSpamSpam\""
      ],
      "execution_count": 0,
      "outputs": []
    },
    {
      "cell_type": "code",
      "metadata": {
        "id": "W6CdO0AsV_cY",
        "colab_type": "code",
        "colab": {
          "base_uri": "https://localhost:8080/",
          "height": 34
        },
        "outputId": "2bbe0bd6-4272-47f4-e058-99f383123d11"
      },
      "source": [
        "spam.strip(\"pamS\")"
      ],
      "execution_count": 63,
      "outputs": [
        {
          "output_type": "execute_result",
          "data": {
            "text/plain": [
              "'BaconSpamEggs'"
            ]
          },
          "metadata": {
            "tags": []
          },
          "execution_count": 63
        }
      ]
    },
    {
      "cell_type": "code",
      "metadata": {
        "id": "Ju3ND8wPV_gS",
        "colab_type": "code",
        "colab": {
          "base_uri": "https://localhost:8080/",
          "height": 34
        },
        "outputId": "1a26726e-221c-4ef6-a24a-78f26652dc83"
      },
      "source": [
        "ord(\"A\")"
      ],
      "execution_count": 64,
      "outputs": [
        {
          "output_type": "execute_result",
          "data": {
            "text/plain": [
              "65"
            ]
          },
          "metadata": {
            "tags": []
          },
          "execution_count": 64
        }
      ]
    },
    {
      "cell_type": "code",
      "metadata": {
        "id": "zPLi4bLVep_G",
        "colab_type": "code",
        "colab": {
          "base_uri": "https://localhost:8080/",
          "height": 34
        },
        "outputId": "b989c95c-57c3-49e3-dd7e-4c73138aaece"
      },
      "source": [
        "ord(\"a\")"
      ],
      "execution_count": 65,
      "outputs": [
        {
          "output_type": "execute_result",
          "data": {
            "text/plain": [
              "97"
            ]
          },
          "metadata": {
            "tags": []
          },
          "execution_count": 65
        }
      ]
    },
    {
      "cell_type": "code",
      "metadata": {
        "id": "QEA5cWhseqJT",
        "colab_type": "code",
        "colab": {
          "base_uri": "https://localhost:8080/",
          "height": 34
        },
        "outputId": "4763011a-f3fe-4633-bb1f-f3eb4bb441b5"
      },
      "source": [
        "ord(\"Z\")"
      ],
      "execution_count": 66,
      "outputs": [
        {
          "output_type": "execute_result",
          "data": {
            "text/plain": [
              "90"
            ]
          },
          "metadata": {
            "tags": []
          },
          "execution_count": 66
        }
      ]
    },
    {
      "cell_type": "code",
      "metadata": {
        "id": "60cmy3q6eqL8",
        "colab_type": "code",
        "colab": {
          "base_uri": "https://localhost:8080/",
          "height": 34
        },
        "outputId": "34e0379d-1c9a-4015-c056-b1b76e099190"
      },
      "source": [
        "ord(\"!\")"
      ],
      "execution_count": 67,
      "outputs": [
        {
          "output_type": "execute_result",
          "data": {
            "text/plain": [
              "33"
            ]
          },
          "metadata": {
            "tags": []
          },
          "execution_count": 67
        }
      ]
    },
    {
      "cell_type": "code",
      "metadata": {
        "id": "nvyhD9JKeqPL",
        "colab_type": "code",
        "colab": {
          "base_uri": "https://localhost:8080/",
          "height": 34
        },
        "outputId": "264f127f-5e2c-4f42-9cad-958e2ee966e8"
      },
      "source": [
        "ord(\"1\")"
      ],
      "execution_count": 68,
      "outputs": [
        {
          "output_type": "execute_result",
          "data": {
            "text/plain": [
              "49"
            ]
          },
          "metadata": {
            "tags": []
          },
          "execution_count": 68
        }
      ]
    },
    {
      "cell_type": "code",
      "metadata": {
        "id": "LU2B0wRkeqR3",
        "colab_type": "code",
        "colab": {
          "base_uri": "https://localhost:8080/",
          "height": 34
        },
        "outputId": "44b2690f-5982-4a78-d742-b536c377e854"
      },
      "source": [
        "chr(91)"
      ],
      "execution_count": 69,
      "outputs": [
        {
          "output_type": "execute_result",
          "data": {
            "text/plain": [
              "'['"
            ]
          },
          "metadata": {
            "tags": []
          },
          "execution_count": 69
        }
      ]
    },
    {
      "cell_type": "code",
      "metadata": {
        "id": "xm2QT95rV_kM",
        "colab_type": "code",
        "colab": {
          "base_uri": "https://localhost:8080/",
          "height": 34
        },
        "outputId": "d991c9cb-7398-4982-8121-510ed9055f54"
      },
      "source": [
        "chr(66)"
      ],
      "execution_count": 70,
      "outputs": [
        {
          "output_type": "execute_result",
          "data": {
            "text/plain": [
              "'B'"
            ]
          },
          "metadata": {
            "tags": []
          },
          "execution_count": 70
        }
      ]
    },
    {
      "cell_type": "markdown",
      "metadata": {
        "id": "NizOaEbah2GW",
        "colab_type": "text"
      },
      "source": [
        "### Copy and Paste using pyperclip module"
      ]
    },
    {
      "cell_type": "code",
      "metadata": {
        "id": "a5_iKv9vhFAh",
        "colab_type": "code",
        "colab": {
          "base_uri": "https://localhost:8080/",
          "height": 168
        },
        "outputId": "62033e1f-cb3c-4bdd-b3e7-c078b7a66c5f"
      },
      "source": [
        "# !pip install pyperclip\n",
        "import pyperclip"
      ],
      "execution_count": 73,
      "outputs": [
        {
          "output_type": "stream",
          "text": [
            "Collecting pyperclip\n",
            "  Downloading https://files.pythonhosted.org/packages/2d/0f/4eda562dffd085945d57c2d9a5da745cfb5228c02bc90f2c74bbac746243/pyperclip-1.7.0.tar.gz\n",
            "Building wheels for collected packages: pyperclip\n",
            "  Building wheel for pyperclip (setup.py) ... \u001b[?25l\u001b[?25hdone\n",
            "  Created wheel for pyperclip: filename=pyperclip-1.7.0-cp36-none-any.whl size=8359 sha256=e77c9f93329d2e2bdc4efd73ca9e3cf6e824da0d078b6786ef1fc7a2169bd566\n",
            "  Stored in directory: /root/.cache/pip/wheels/92/f0/ac/2ba2972034e98971c3654ece337ac61e546bdeb34ca960dc8c\n",
            "Successfully built pyperclip\n",
            "Installing collected packages: pyperclip\n",
            "Successfully installed pyperclip-1.7.0\n"
          ],
          "name": "stdout"
        }
      ]
    },
    {
      "cell_type": "code",
      "metadata": {
        "id": "W14g9wsqiAMI",
        "colab_type": "code",
        "colab": {}
      },
      "source": [
        "# pyperclip.copy(\"Hello World\")"
      ],
      "execution_count": 0,
      "outputs": []
    },
    {
      "cell_type": "code",
      "metadata": {
        "id": "CjvPjk8Oif0h",
        "colab_type": "code",
        "colab": {}
      },
      "source": [
        "# pyperclip.paste()"
      ],
      "execution_count": 0,
      "outputs": []
    },
    {
      "cell_type": "code",
      "metadata": {
        "id": "NvdsKgNdivnF",
        "colab_type": "code",
        "colab": {}
      },
      "source": [
        ""
      ],
      "execution_count": 0,
      "outputs": []
    },
    {
      "cell_type": "code",
      "metadata": {
        "id": "3Pqq1Zo2ixC_",
        "colab_type": "code",
        "colab": {}
      },
      "source": [
        ""
      ],
      "execution_count": 0,
      "outputs": []
    },
    {
      "cell_type": "code",
      "metadata": {
        "id": "yLMY4420ixGp",
        "colab_type": "code",
        "colab": {}
      },
      "source": [
        ""
      ],
      "execution_count": 0,
      "outputs": []
    },
    {
      "cell_type": "code",
      "metadata": {
        "id": "jbfXFiv-ixKj",
        "colab_type": "code",
        "colab": {}
      },
      "source": [
        ""
      ],
      "execution_count": 0,
      "outputs": []
    },
    {
      "cell_type": "code",
      "metadata": {
        "id": "A8U4SISdixON",
        "colab_type": "code",
        "colab": {}
      },
      "source": [
        ""
      ],
      "execution_count": 0,
      "outputs": []
    }
  ]
}